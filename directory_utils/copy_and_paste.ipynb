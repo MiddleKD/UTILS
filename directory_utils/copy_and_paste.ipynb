{
 "cells": [
  {
   "cell_type": "markdown",
   "metadata": {},
   "source": [
    "## version 1"
   ]
  },
  {
   "cell_type": "code",
   "execution_count": 1,
   "metadata": {},
   "outputs": [],
   "source": [
    "import os"
   ]
  },
  {
   "cell_type": "code",
   "execution_count": 3,
   "metadata": {},
   "outputs": [],
   "source": [
    "import os\n",
    "import shutil\n",
    "from glob import glob\n",
    "\n",
    "def copy_files(source_directory, target_directory):\n",
    "    # Create target directory if it doesn't exist\n",
    "    if not os.path.exists(target_directory):\n",
    "        os.makedirs(target_directory)\n",
    "\n",
    "    # Iterate over files in source directory\n",
    "    for filename in glob(source_directory+\"**/*.jpg\", recursive=True):\n",
    "        source_path = os.path.join(source_directory, filename)\n",
    "        \n",
    "        if \"mask\" in filename:\n",
    "            pass\n",
    "        else:\n",
    "            target_path = os.path.join(target_directory, filename + \".jpg\")\n",
    "            shutil.copy(source_path, target_path)\n"
   ]
  },
  {
   "cell_type": "code",
   "execution_count": 10,
   "metadata": {},
   "outputs": [],
   "source": [
    "base_path = \"/media/mlfavorfit/sdb/generated_templates/\"\n",
    "tags = [\"bottle\", \"product\", \"productphoto\", \"beautyproduct\", \"makeupproduct\", \"cosmetic\"]\n",
    "target_path = '/media/mlfavorfit/sdb/iterate_templates/'"
   ]
  },
  {
   "cell_type": "code",
   "execution_count": 11,
   "metadata": {},
   "outputs": [],
   "source": [
    "for tag in tags:\n",
    "    copy_files(os.path.join(base_path, tag), os.path.join(target_path, tag))"
   ]
  },
  {
   "cell_type": "markdown",
   "metadata": {},
   "source": [
    "## version 2"
   ]
  },
  {
   "cell_type": "code",
   "execution_count": 1,
   "metadata": {},
   "outputs": [],
   "source": [
    "import os\n",
    "import shutil\n",
    "from glob import glob\n",
    "\n",
    "def copy_files(source_directory, target_directory):\n",
    "    # Create target directory if it doesn't exist\n",
    "    if not os.path.exists(target_directory):\n",
    "        os.makedirs(target_directory)\n",
    "\n",
    "    # Iterate over files in source directory\n",
    "    for idx, filename in enumerate(glob(source_directory+\"**/*.jpg\", recursive=True)):\n",
    "        \n",
    "        target_path = os.path.join(target_directory, str(idx) + \"f.jpg\")\n",
    "        shutil.copy(filename, target_path)\n"
   ]
  },
  {
   "cell_type": "code",
   "execution_count": 2,
   "metadata": {},
   "outputs": [],
   "source": [
    "base_path = \"/media/mlfavorfit/sdb/template/\"\n",
    "target_path = '/media/mlfavorfit/sdb/lora_train_data/'"
   ]
  },
  {
   "cell_type": "code",
   "execution_count": 3,
   "metadata": {},
   "outputs": [],
   "source": [
    "copy_files(base_path, target_path)"
   ]
  },
  {
   "cell_type": "markdown",
   "metadata": {},
   "source": [
    "## version 3"
   ]
  },
  {
   "cell_type": "code",
   "execution_count": null,
   "metadata": {},
   "outputs": [],
   "source": [
    "from glob import glob\n",
    "import numpy as np\n",
    "\n",
    "fns = glob(\"/media/mlfavorfit/sda/product_image_and_mask/*/*\")\n",
    "fns = sorted(fns)"
   ]
  },
  {
   "cell_type": "code",
   "execution_count": null,
   "metadata": {},
   "outputs": [],
   "source": [
    "img_mask_pairs = list(zip([fn for idx, fn in enumerate(fns) if idx % 2 == 0], [fn for idx, fn in enumerate(fns) if idx % 2 == 1]))\n",
    "np.random.shuffle(img_mask_pairs)"
   ]
  },
  {
   "cell_type": "code",
   "execution_count": null,
   "metadata": {},
   "outputs": [],
   "source": [
    "train_set = img_mask_pairs[:int(len(img_mask_pairs) * 0.7)]\n",
    "val_set = img_mask_pairs[int(len(img_mask_pairs) * 0.7):]"
   ]
  },
  {
   "cell_type": "code",
   "execution_count": null,
   "metadata": {},
   "outputs": [],
   "source": [
    "import json\n",
    "\n",
    "total_json = {}\n",
    "\n",
    "with open(\"./temp.json\", mode=\"r\") as f:\n",
    "    json_like = json.load(f)\n",
    "\n",
    "total_json.update(json_like)\n",
    "\n",
    "with open(\"./temp2.json\", mode=\"r\") as f:\n",
    "    json_like = json.load(f)\n",
    "\n",
    "total_json.update(json_like)"
   ]
  },
  {
   "cell_type": "code",
   "execution_count": null,
   "metadata": {},
   "outputs": [],
   "source": [
    "def copy_files(image_path, source_directory, target_directory):\n",
    "\n",
    "    dirn = os.path.dirname(image_path)\n",
    "    suffix_dirn = dirn.split(source_directory+\"/\")[1]\n",
    "    target_dirn = os.path.join(target_directory, suffix_dirn)\n",
    "\n",
    "    os.makedirs(target_dirn, exist_ok=True)\n",
    "\n",
    "    bsn = os.path.basename(image_path)\n",
    "    target_bsn = bsn.replace(\".jpeg\", \"\").replace(\".jpg\", \"\")\n",
    "\n",
    "    target_path = os.path.join(target_dirn, target_bsn + \".jpg\")\n",
    "    shutil.copy(image_path, target_path)\n",
    "\n",
    "    return target_path"
   ]
  },
  {
   "cell_type": "code",
   "execution_count": null,
   "metadata": {},
   "outputs": [],
   "source": [
    "from tqdm import tqdm\n",
    "\n",
    "target_json = {}\n",
    "for image_path, mask_path in tqdm(train_set):\n",
    "    try:\n",
    "        saved_path = copy_files(image_path, \"\")\n",
    "        target_json[saved_path] = total_json[image_path]\n",
    "        copy_files(mask_path, \"\", \"\")\n",
    "    except:\n",
    "        print(image_path, \"error\")"
   ]
  },
  {
   "cell_type": "code",
   "execution_count": null,
   "metadata": {},
   "outputs": [],
   "source": [
    "with open(\"\", mode=\"w\") as f:\n",
    "    json.dump(target_json, f, indent=4)"
   ]
  },
  {
   "cell_type": "markdown",
   "metadata": {},
   "source": [
    "## Rename and save"
   ]
  },
  {
   "cell_type": "code",
   "execution_count": 40,
   "metadata": {},
   "outputs": [],
   "source": [
    "from glob import glob\n",
    "import os\n",
    "\n",
    "source_dir = \"/media/mlfavorfit/sdb/template/\"\n",
    "fns = glob(os.path.join(source_dir, \"**\", \"*\"))"
   ]
  },
  {
   "cell_type": "code",
   "execution_count": 41,
   "metadata": {},
   "outputs": [],
   "source": [
    "import re\n",
    "\n",
    "def rename_with_rule(in_str):\n",
    "    b = in_str.split(\"/\")[0]\n",
    "    a = int(in_str.split(\"/\")[1].split(\".\")[0])\n",
    "\n",
    "    if a < 932:\n",
    "        a +=1\n",
    "    else:\n",
    "        a -= 90\n",
    "    \n",
    "    out_str = b + \"/\" + str(a) + \".jpg\"\n",
    "    \n",
    "    return out_str"
   ]
  },
  {
   "cell_type": "code",
   "execution_count": 44,
   "metadata": {},
   "outputs": [],
   "source": [
    "import shutil\n",
    "\n",
    "def copy_files(old_bsn, new_bsn, source_directory, target_directory):\n",
    "    source_fn = os.path.join(source_directory, old_bsn)\n",
    "    target_fn = os.path.join(target_directory, new_bsn)\n",
    "    \n",
    "    os.makedirs(os.path.dirname(target_fn), exist_ok=True)\n",
    "    shutil.copy(source_fn, target_fn)\n",
    "\n",
    "    return target_fn"
   ]
  },
  {
   "cell_type": "code",
   "execution_count": 45,
   "metadata": {},
   "outputs": [],
   "source": [
    "target_dir = \"/media/mlfavorfit/sdb/test_folder/\"\n",
    "\n",
    "for fn in fns:\n",
    "    bsn = fn.replace(source_dir, \"\")\n",
    "    new_bsn = rename_with_rule(bsn)\n",
    "\n",
    "    copy_files(bsn, new_bsn, source_dir, target_dir)\n",
    "    \n",
    "    # break"
   ]
  },
  {
   "cell_type": "code",
   "execution_count": null,
   "metadata": {},
   "outputs": [],
   "source": []
  }
 ],
 "metadata": {
  "kernelspec": {
   "display_name": "kjg_ver39",
   "language": "python",
   "name": "python3"
  },
  "language_info": {
   "codemirror_mode": {
    "name": "ipython",
    "version": 3
   },
   "file_extension": ".py",
   "mimetype": "text/x-python",
   "name": "python",
   "nbconvert_exporter": "python",
   "pygments_lexer": "ipython3",
   "version": "3.9.16"
  },
  "orig_nbformat": 4
 },
 "nbformat": 4,
 "nbformat_minor": 2
}
