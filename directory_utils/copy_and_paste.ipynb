{
 "cells": [
  {
   "cell_type": "code",
   "execution_count": 3,
   "metadata": {},
   "outputs": [],
   "source": [
    "import os"
   ]
  },
  {
   "cell_type": "code",
   "execution_count": 4,
   "metadata": {},
   "outputs": [],
   "source": [
    "import os\n",
    "import shutil\n",
    "\n",
    "def copy_files(source_directory, target_directory):\n",
    "    # Create target directory if it doesn't exist\n",
    "    if not os.path.exists(target_directory):\n",
    "        os.makedirs(target_directory)\n",
    "\n",
    "    # Iterate over files in source directory\n",
    "    for filename in os.listdir(source_directory):\n",
    "        source_path = os.path.join(source_directory, filename)\n",
    "        \n",
    "        if \"mask\" in filename:\n",
    "            pass\n",
    "        else:\n",
    "            target_path = os.path.join(target_directory, filename + \".jpg\")\n",
    "            shutil.copy(source_path, target_path)\n"
   ]
  },
  {
   "cell_type": "code",
   "execution_count": 6,
   "metadata": {},
   "outputs": [],
   "source": [
    "base_path = \"/media/mlfavorfit/sda/product_mask/\"\n",
    "tags = [\"bottle\", \"product\", \"productphoto\", \"beautyproduct\", \"makeupproduct\", \"cosmetic\"]\n",
    "target_path = '/home/mlfavorfit/Downloads/temp/' "
   ]
  },
  {
   "cell_type": "code",
   "execution_count": 7,
   "metadata": {},
   "outputs": [],
   "source": [
    "for tag in tags:\n",
    "    copy_files(os.path.join(base_path, tag), os.path.join(target_path, tag))"
   ]
  },
  {
   "cell_type": "code",
   "execution_count": null,
   "metadata": {},
   "outputs": [],
   "source": []
  }
 ],
 "metadata": {
  "kernelspec": {
   "display_name": "kjg_ver39",
   "language": "python",
   "name": "python3"
  },
  "language_info": {
   "codemirror_mode": {
    "name": "ipython",
    "version": 3
   },
   "file_extension": ".py",
   "mimetype": "text/x-python",
   "name": "python",
   "nbconvert_exporter": "python",
   "pygments_lexer": "ipython3",
   "version": "3.9.16"
  },
  "orig_nbformat": 4
 },
 "nbformat": 4,
 "nbformat_minor": 2
}
